{
 "cells": [
  {
   "cell_type": "code",
   "execution_count": 1,
   "id": "3e30ee15-033e-43b9-87b6-2652d7249251",
   "metadata": {},
   "outputs": [],
   "source": [
    "from bs4 import BeautifulSoup \n",
    "import requests\n",
    "import pandas as pd \n",
    "from concurrent.futures import ThreadPoolExecutor"
   ]
  },
  {
   "cell_type": "code",
   "execution_count": 2,
   "id": "f0a8cffe-112c-47fe-b138-21f836e2e103",
   "metadata": {},
   "outputs": [],
   "source": [
    "# ---------------------------------------------------------------------------- #\n",
    "# scraping starts here # "
   ]
  },
  {
   "cell_type": "code",
   "execution_count": 3,
   "id": "30e3a6a1-6e81-402b-96b5-c59c4c30594c",
   "metadata": {},
   "outputs": [],
   "source": [
    "# Men shoes: "
   ]
  },
  {
   "cell_type": "code",
   "execution_count": 4,
   "id": "e979e335-08b5-4388-aa8a-00a03fea6f1e",
   "metadata": {},
   "outputs": [],
   "source": [
    "base_url = 'https://www.noon.com'\n",
    "men_shoes_brand = []\n",
    "men_shoes_name = []\n",
    "men_shoes_mod_no = []\n",
    "men_shoes_price = []\n",
    "men_shoes_link = []"
   ]
  },
  {
   "cell_type": "code",
   "execution_count": 5,
   "id": "90de92d7-66b6-49dd-8972-139d2ae6c3a8",
   "metadata": {},
   "outputs": [],
   "source": [
    "headers = {\n",
    "    'User-Agent': 'Mozilla/5.0 (Windows NT 10.0; Win64; x64) AppleWebKit/537.36 (KHTML, like Gecko) Chrome/91.0.4472.124 Safari/537.36',\n",
    "}"
   ]
  },
  {
   "cell_type": "code",
   "execution_count": 6,
   "id": "37d1b44e-38f5-4f20-8773-f9a2fb8599a8",
   "metadata": {},
   "outputs": [],
   "source": [
    "# making a function for the item info to run in parallel to the saving of links. \n",
    "def scrape_product_info(link):\n",
    "    try:\n",
    "        src_prod = requests.get(link, headers=headers)\n",
    "        soup2 = BeautifulSoup(src_prod.content, 'lxml')\n",
    "        info_cont = soup2.find('div', {'class': 'sc-6f72a2a1-4 ewCbcV'})\n",
    "        brand_name = info_cont.find('div', class_='sc-6f72a2a1-16 bUsDae').text\n",
    "        shoe_name = info_cont.find('h1', class_='sc-6f72a2a1-17 xcZgf').text\n",
    "        model_number_info = info_cont.find('div', class_='modelNumber').text\n",
    "        model_number = model_number_info.split(':')[1].strip()\n",
    "        price_info = info_cont.find('div', class_='priceNow').text\n",
    "        price = price_info.split('\\xa0')[1]\n",
    "\n",
    "        men_shoes_brand.append(brand_name)\n",
    "        men_shoes_name.append(shoe_name)\n",
    "        men_shoes_mod_no.append(model_number)\n",
    "        men_shoes_price.append(price)\n",
    "        men_shoes_link.append(link)\n",
    "\n",
    "    except requests.RequestException as e:\n",
    "        print(f\"Error while processing {link}: {e}\")\n",
    "\n",
    "with requests.Session() as session:\n",
    "    with ThreadPoolExecutor(max_workers=10) as executor:\n",
    "        for x in range(1, 22):\n",
    "            src_cont = session.get(f'https://www.noon.com/egypt-en/fashion/men-31225/shoes-17421/fashion-sneakers-20082/?limit=50&originalQuery=shoes&page={x}', headers=headers)\n",
    "            src_cont.raise_for_status()  # Raise HTTPError for bad requests\n",
    "            soup = BeautifulSoup(src_cont.content, 'lxml')\n",
    "            list_grid = soup.find('div', {'class':'sc-926ab76d-7 eCDCTP grid'})\n",
    "            span_links = list_grid.find_all('span', class_='sc-deebe925-0 fEembb wrapper productContainer show')\n",
    "\n",
    "            # Getting the links\n",
    "            links_to_scrape = [base_url + link.find('a')['href'] for link in span_links]\n",
    "\n",
    "            # Scraping product information in parallel\n",
    "            # this executor.map will run the function defined above. \n",
    "            # the second argument of this function will be used as an argument to the first argument. \n",
    "            executor.map(scrape_product_info, links_to_scrape)\n",
    "\n",
    "# Now, men_shoes_brand, men_shoes_name, men_shoes_mod_no, and men_shoes_price contain the scraped data.\n",
    "\n"
   ]
  },
  {
   "cell_type": "code",
   "execution_count": 7,
   "id": "cd601888-729c-4bf7-abf1-9d0d5d1c6424",
   "metadata": {},
   "outputs": [
    {
     "name": "stdout",
     "output_type": "stream",
     "text": [
      "1050\n",
      "1050\n",
      "1050\n",
      "1050\n",
      "1050\n"
     ]
    }
   ],
   "source": [
    "# checking all the lists if they all have data. \n",
    "print(len(men_shoes_brand))\n",
    "print(len(men_shoes_name))\n",
    "print(len(men_shoes_mod_no))\n",
    "print(len(men_shoes_price))\n",
    "print(len(men_shoes_link))\n"
   ]
  },
  {
   "cell_type": "code",
   "execution_count": 8,
   "id": "553b1752-260b-46c5-bbd9-d97ec711d992",
   "metadata": {},
   "outputs": [],
   "source": [
    "# scraping ends here # \n",
    "# ---------------------------------------------------------------------------- #\n",
    "# csv creation thru pandas starts here.  # "
   ]
  },
  {
   "cell_type": "code",
   "execution_count": 9,
   "id": "700ac69d-368c-4100-82a3-f322690996f2",
   "metadata": {},
   "outputs": [],
   "source": [
    "# making the scraped data to become a dictionary data for making a dataframe. \n",
    "men_shoe_data = {\n",
    "    'Shoe_Brand': men_shoes_brand,\n",
    "    'Shoe_Name': men_shoes_name,\n",
    "    'Shoe_Model_Number': men_shoes_mod_no,\n",
    "    'Shoe_Price': men_shoes_price,\n",
    "    'Shoe_Link': men_shoes_link\n",
    "}"
   ]
  },
  {
   "cell_type": "code",
   "execution_count": 10,
   "id": "43b482fd-fe07-440a-9222-6f8f85b3df6c",
   "metadata": {},
   "outputs": [],
   "source": [
    "# creating dataframe \n",
    "shoe_pd = pd.DataFrame(men_shoe_data)"
   ]
  },
  {
   "cell_type": "code",
   "execution_count": 11,
   "id": "b558e8fe-bcdf-478e-b95a-2da17f968bd2",
   "metadata": {},
   "outputs": [
    {
     "data": {
      "text/html": [
       "<div>\n",
       "<style scoped>\n",
       "    .dataframe tbody tr th:only-of-type {\n",
       "        vertical-align: middle;\n",
       "    }\n",
       "\n",
       "    .dataframe tbody tr th {\n",
       "        vertical-align: top;\n",
       "    }\n",
       "\n",
       "    .dataframe thead th {\n",
       "        text-align: right;\n",
       "    }\n",
       "</style>\n",
       "<table border=\"1\" class=\"dataframe\">\n",
       "  <thead>\n",
       "    <tr style=\"text-align: right;\">\n",
       "      <th></th>\n",
       "      <th>Shoe_Brand</th>\n",
       "      <th>Shoe_Name</th>\n",
       "      <th>Shoe_Model_Number</th>\n",
       "      <th>Shoe_Price</th>\n",
       "      <th>Shoe_Link</th>\n",
       "    </tr>\n",
       "  </thead>\n",
       "  <tbody>\n",
       "    <tr>\n",
       "      <th>0</th>\n",
       "      <td>Nike</td>\n",
       "      <td>React Live Sneakers Black/White-Dk Smoke Grey</td>\n",
       "      <td>CV1772-003</td>\n",
       "      <td>5149.00</td>\n",
       "      <td>https://www.noon.com/egypt-en/react-live-sneak...</td>\n",
       "    </tr>\n",
       "    <tr>\n",
       "      <th>1</th>\n",
       "      <td>Adidas</td>\n",
       "      <td>Ultimashow Running Shoes</td>\n",
       "      <td>fx3633</td>\n",
       "      <td>2494.00</td>\n",
       "      <td>https://www.noon.com/egypt-en/ultimashow-runni...</td>\n",
       "    </tr>\n",
       "    <tr>\n",
       "      <th>2</th>\n",
       "      <td>Activ</td>\n",
       "      <td>Special Sports Shoes</td>\n",
       "      <td>RU23089</td>\n",
       "      <td>534.00</td>\n",
       "      <td>https://www.noon.com/egypt-en/special-sports-s...</td>\n",
       "    </tr>\n",
       "    <tr>\n",
       "      <th>3</th>\n",
       "      <td>Adidas</td>\n",
       "      <td>Runfalcon 3.0 Running Shoes</td>\n",
       "      <td>ID2291</td>\n",
       "      <td>3374.00</td>\n",
       "      <td>https://www.noon.com/egypt-en/runfalcon-3-0-ru...</td>\n",
       "    </tr>\n",
       "    <tr>\n",
       "      <th>4</th>\n",
       "      <td>Activ</td>\n",
       "      <td>Special Sports Shoes</td>\n",
       "      <td>RU23092</td>\n",
       "      <td>534.00</td>\n",
       "      <td>https://www.noon.com/egypt-en/special-sports-s...</td>\n",
       "    </tr>\n",
       "    <tr>\n",
       "      <th>...</th>\n",
       "      <td>...</td>\n",
       "      <td>...</td>\n",
       "      <td>...</td>\n",
       "      <td>...</td>\n",
       "      <td>...</td>\n",
       "    </tr>\n",
       "    <tr>\n",
       "      <th>1045</th>\n",
       "      <td>Desert</td>\n",
       "      <td>SPORTIVE canvas lace-up sneakers for men - COR...</td>\n",
       "      <td>F18</td>\n",
       "      <td>265.00</td>\n",
       "      <td>https://www.noon.com/egypt-en/sportive-canvas-...</td>\n",
       "    </tr>\n",
       "    <tr>\n",
       "      <th>1046</th>\n",
       "      <td>ZONTA</td>\n",
       "      <td>Zonta Men's Microfibre Fabric Lace Up Shoes</td>\n",
       "      <td>10102Nav</td>\n",
       "      <td>350.00</td>\n",
       "      <td>https://www.noon.com/egypt-en/zonta-men-s-micr...</td>\n",
       "    </tr>\n",
       "    <tr>\n",
       "      <th>1047</th>\n",
       "      <td>anta</td>\n",
       "      <td>EASY RUN RUNNING SHOES FOR MEN IN BLACK</td>\n",
       "      <td>812215571-6</td>\n",
       "      <td>1604.00</td>\n",
       "      <td>https://www.noon.com/egypt-en/easy-run-running...</td>\n",
       "    </tr>\n",
       "    <tr>\n",
       "      <th>1048</th>\n",
       "      <td>Desert</td>\n",
       "      <td>Basic Fashion Leather Flat Sneakers For Men</td>\n",
       "      <td>2057/6</td>\n",
       "      <td>239.00</td>\n",
       "      <td>https://www.noon.com/egypt-en/basic-fashion-le...</td>\n",
       "    </tr>\n",
       "    <tr>\n",
       "      <th>1049</th>\n",
       "      <td>Premoda</td>\n",
       "      <td>Fancy Genuine Leather Lace - Up Sneakers</td>\n",
       "      <td>800-560-3708-54-001</td>\n",
       "      <td>979.95</td>\n",
       "      <td>https://www.noon.com/egypt-en/fancy-genuine-le...</td>\n",
       "    </tr>\n",
       "  </tbody>\n",
       "</table>\n",
       "<p>1050 rows × 5 columns</p>\n",
       "</div>"
      ],
      "text/plain": [
       "     Shoe_Brand                                          Shoe_Name  \\\n",
       "0          Nike      React Live Sneakers Black/White-Dk Smoke Grey   \n",
       "1        Adidas                           Ultimashow Running Shoes   \n",
       "2         Activ                               Special Sports Shoes   \n",
       "3        Adidas                        Runfalcon 3.0 Running Shoes   \n",
       "4         Activ                               Special Sports Shoes   \n",
       "...         ...                                                ...   \n",
       "1045     Desert  SPORTIVE canvas lace-up sneakers for men - COR...   \n",
       "1046      ZONTA        Zonta Men's Microfibre Fabric Lace Up Shoes   \n",
       "1047       anta            EASY RUN RUNNING SHOES FOR MEN IN BLACK   \n",
       "1048     Desert        Basic Fashion Leather Flat Sneakers For Men   \n",
       "1049    Premoda           Fancy Genuine Leather Lace - Up Sneakers   \n",
       "\n",
       "        Shoe_Model_Number Shoe_Price  \\\n",
       "0              CV1772-003    5149.00   \n",
       "1                  fx3633    2494.00   \n",
       "2                 RU23089     534.00   \n",
       "3                  ID2291    3374.00   \n",
       "4                 RU23092     534.00   \n",
       "...                   ...        ...   \n",
       "1045                  F18     265.00   \n",
       "1046             10102Nav     350.00   \n",
       "1047          812215571-6    1604.00   \n",
       "1048               2057/6     239.00   \n",
       "1049  800-560-3708-54-001     979.95   \n",
       "\n",
       "                                              Shoe_Link  \n",
       "0     https://www.noon.com/egypt-en/react-live-sneak...  \n",
       "1     https://www.noon.com/egypt-en/ultimashow-runni...  \n",
       "2     https://www.noon.com/egypt-en/special-sports-s...  \n",
       "3     https://www.noon.com/egypt-en/runfalcon-3-0-ru...  \n",
       "4     https://www.noon.com/egypt-en/special-sports-s...  \n",
       "...                                                 ...  \n",
       "1045  https://www.noon.com/egypt-en/sportive-canvas-...  \n",
       "1046  https://www.noon.com/egypt-en/zonta-men-s-micr...  \n",
       "1047  https://www.noon.com/egypt-en/easy-run-running...  \n",
       "1048  https://www.noon.com/egypt-en/basic-fashion-le...  \n",
       "1049  https://www.noon.com/egypt-en/fancy-genuine-le...  \n",
       "\n",
       "[1050 rows x 5 columns]"
      ]
     },
     "execution_count": 11,
     "metadata": {},
     "output_type": "execute_result"
    }
   ],
   "source": [
    "shoe_pd"
   ]
  },
  {
   "cell_type": "code",
   "execution_count": 12,
   "id": "ac24e077-3cfd-42a4-84a3-78eb111ca0d0",
   "metadata": {},
   "outputs": [
    {
     "data": {
      "text/plain": [
       "Shoe_Brand           object\n",
       "Shoe_Name            object\n",
       "Shoe_Model_Number    object\n",
       "Shoe_Price           object\n",
       "Shoe_Link            object\n",
       "dtype: object"
      ]
     },
     "execution_count": 12,
     "metadata": {},
     "output_type": "execute_result"
    }
   ],
   "source": [
    "shoe_pd.dtypes"
   ]
  },
  {
   "cell_type": "code",
   "execution_count": 13,
   "id": "e93195e3-d501-402c-a750-d9c81dd8cb52",
   "metadata": {},
   "outputs": [],
   "source": [
    "# now creating csv for this dataframe \n",
    "shoe_pd.to_csv('men_shoes.csv')"
   ]
  },
  {
   "cell_type": "code",
   "execution_count": 14,
   "id": "8e65656e-fdcc-4a0d-ba48-4b8dfb3454e1",
   "metadata": {},
   "outputs": [],
   "source": [
    "# converting to csv ends here # \n",
    "# ---------------------------------------------------------------------------- #"
   ]
  },
  {
   "cell_type": "code",
   "execution_count": null,
   "id": "a70623e0-6423-4052-b0f3-b00aea54fb3f",
   "metadata": {},
   "outputs": [],
   "source": []
  }
 ],
 "metadata": {
  "kernelspec": {
   "display_name": "Python 3 (ipykernel)",
   "language": "python",
   "name": "python3"
  },
  "language_info": {
   "codemirror_mode": {
    "name": "ipython",
    "version": 3
   },
   "file_extension": ".py",
   "mimetype": "text/x-python",
   "name": "python",
   "nbconvert_exporter": "python",
   "pygments_lexer": "ipython3",
   "version": "3.11.2"
  }
 },
 "nbformat": 4,
 "nbformat_minor": 5
}
