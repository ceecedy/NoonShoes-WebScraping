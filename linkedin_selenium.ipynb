{
 "cells": [
  {
   "cell_type": "code",
   "execution_count": 34,
   "id": "93052e25-dc72-4b0e-aeeb-dc0386b45329",
   "metadata": {},
   "outputs": [],
   "source": [
    "import pandas as pd \n",
    "import time \n",
    "from selenium import webdriver\n",
    "import os \n",
    "import re # regular expression\n",
    "\n",
    "from selenium.webdriver.support.select import Select \n",
    "from selenium.webdriver.support.ui import WebDriverWait\n",
    "from selenium.webdriver.common.by import By\n",
    "from selenium.webdriver.support import expected_conditions as EC\n",
    "from selenium.webdriver.chrome.service import Service"
   ]
  },
  {
   "cell_type": "code",
   "execution_count": 35,
   "id": "7803844c-6573-42e5-aa4b-3813b48b4d98",
   "metadata": {},
   "outputs": [],
   "source": [
    "serve = Service('/usr/local/bin/chromedriver')\n",
    "driver = webdriver.Chrome(service = serve)"
   ]
  },
  {
   "cell_type": "code",
   "execution_count": 36,
   "id": "2672f458-cd05-423a-8e38-db558a68a96e",
   "metadata": {},
   "outputs": [],
   "source": [
    "# getting the link \n",
    "driver.get('https://www.linkedin.com/jobs/search?keywords=Data%20Scientist&location=philippines&geoId=&trk=public_jobs_jobs-search-bar_search-submit&position=1&pageNum=0')\n",
    "driver.implicitly_wait(10) # this is to ensure that the content will all load. "
   ]
  },
  {
   "cell_type": "code",
   "execution_count": 37,
   "id": "00004936-3532-48a4-86b2-204881b15738",
   "metadata": {},
   "outputs": [
    {
     "data": {
      "text/plain": [
       "3000"
      ]
     },
     "execution_count": 37,
     "metadata": {},
     "output_type": "execute_result"
    }
   ],
   "source": [
    "num_of_curr_jobs_text = driver.find_elements(By.CLASS_NAME, 'results-context-header__job-count')[0].text\n",
    "# Use a regular expression to extract only digits\n",
    "numeric_part = re.sub(r'\\D', '', num_of_curr_jobs_text)\n",
    "# Convert the numeric part to an integer\n",
    "num_of_curr_jobs = int(numeric_part)\n",
    "num_of_curr_jobs"
   ]
  },
  {
   "cell_type": "code",
   "execution_count": null,
   "id": "f40d5412-9adb-40fc-8624-2494a8658bb4",
   "metadata": {},
   "outputs": [],
   "source": []
  }
 ],
 "metadata": {
  "kernelspec": {
   "display_name": "Python 3 (ipykernel)",
   "language": "python",
   "name": "python3"
  },
  "language_info": {
   "codemirror_mode": {
    "name": "ipython",
    "version": 3
   },
   "file_extension": ".py",
   "mimetype": "text/x-python",
   "name": "python",
   "nbconvert_exporter": "python",
   "pygments_lexer": "ipython3",
   "version": "3.11.2"
  }
 },
 "nbformat": 4,
 "nbformat_minor": 5
}
